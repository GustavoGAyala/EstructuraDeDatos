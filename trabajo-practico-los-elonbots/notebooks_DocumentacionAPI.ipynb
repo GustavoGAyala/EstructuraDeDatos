{
  "metadata": {
    "kernelspec": {
      "name": "python",
      "display_name": "Python (Pyodide)",
      "language": "python"
    },
    "language_info": {
      "codemirror_mode": {
        "name": "python",
        "version": 3
      },
      "file_extension": ".py",
      "mimetype": "text/x-python",
      "name": "python",
      "nbconvert_exporter": "python",
      "pygments_lexer": "ipython3",
      "version": "3.8"
    },
    "vscode": {
      "interpreter": {
        "hash": "1041652c43c4f4c85af63fa5226b55141b245e7242ec03e27548dd85278f2ebc"
      }
    }
  },
  "nbformat_minor": 5,
  "nbformat": 4,
  "cells": [
    {
      "cell_type": "markdown",
      "source": "##TP EDD\n#Nuestra API recopila twitts sobre \"Elon Musk\" y \"la compra de twiter\" solo en idioma Ingles\n\nel repositorio donde vive nuestra API es: https://github.com/untref-ed/trabajo-practico-los-elonbots\ncada miembro del equipo de trabajo genero tokes y claves de acceso, con permiso de estudiante a twiter, de esta manera recopilamos datos distintos dias con el objetivo de tener una robusta base de datos al momento de utilizar la API\nutilizamos distintos formatos de estructura de datos: Shelve, CSV, Json, Indice invertido\ntambien utulizamos distintas bibliotecas para dar formato a los datos \n\nuna vez ejecutado el codigo, el menu por terminal se muestra de la siguiene manera:\n\n",
      "metadata": {
        "tags": []
      },
      "id": "1c2be5ed-d1b2-41f3-80d7-27f18c33627c"
    },
    {
      "cell_type": "raw",
      "source": "Opciones: \n         a: Recopilar tweets de Twitter\n         b: Consulta de tweets por fecha y hora\n         c: Consultas de tweets por palabras o frases\n         d: Ranking\nIngrese la opción deseada:",
      "metadata": {},
      "id": "b589c107-ce4b-45e4-98c0-a66dfe26b2aa"
    },
    {
      "cell_type": "raw",
      "source": "Como se puede observar mediante el menu, la API tiene varias funcionalidades, una vez recolectados los twits, los mismos viven en disco y puede ser accesada esa base de datos y consultada en su totalidad.\n\nLuego de seleccionar la Opcion \"a\", el sistema recopila twitws hasta presionar por teclado \"Ctrl+C\"\nsi no puede realizar la operacion mostrara un msj de error por pantalla y finalizara la API\n",
      "metadata": {},
      "id": "9f4ac100-16a1-415b-949f-acde46811d66"
    },
    {
      "cell_type": "markdown",
      "source": "al finalizar la busqueda muestra una serie de datos de la busqueda actual, de la siguiente manera:\n    Tweets procesados hasta el momento: 115\n    Tweets procesados hasta el momento: 116\n    Tweets procesados hasta el momento: 117\n    Tweets procesados hasta el momento: 118\n    Tweets procesados hasta el momento: 119\n\n    ================ ... Done! ================\n\n    Fecha y hora de inicio: 30-10-2022 15:07:34\n    Fecha y hora de finalizacion: 30-10-2022 15:08:02\n    Cantidad de tweets recolectados: 119 tweets\n    Cantidad de bytes procesados: 74256 bytes\n    Tamaño archivo de datos de: 269524036 bytes\n\n    Desea continuar? [N para salir] : #al presionar cualquier otra tecla el menu se vuelve a mostrar en pantalla\n\n    Seleccione una opcion válida\n    Opciones: \n         a: Recopilar tweets de Twitter\n         b: Consulta de tweets por fecha y hora\n         c: Consultas de tweets por palabras o frases\n         d: Ranking\nIngrese la opción deseada:",
      "metadata": {},
      "id": "093704fa-273b-432b-be48-040bf336e3aa"
    },
    {
      "cell_type": "markdown",
      "source": "Al seleccionar la opcion 'b' el sistema nos va realizando consultas para generar la busqueda, se debe proporcionar fechas de inicio y fin, cantidad de twits que solicitaremos y un usuario de ser necesario, luego nos mostrara por pantalla la info solicitada",
      "metadata": {},
      "id": "8c0e84a8"
    },
    {
      "cell_type": "markdown",
      "source": "Al seleccionar la opcion 'c' el sistema nos va realizando consultas para generar la busqueda, se debe proporcionar la palabra o frase que requerimos buscar en nuestra base de datos, de esa manera el sistema mostrara por pantalla el resultado de la busqueda",
      "metadata": {},
      "id": "f9f4043f-ca4d-4c1f-b61e-b107715859a6"
    },
    {
      "cell_type": "markdown",
      "source": "Opciones: \n         a: Recopilar tweets de Twitter\n         b: Consulta de tweets por fecha y hora\n         c: Consultas de tweets por palabras o frases\n         d: Ranking\nIngrese la opción deseada:\n    \nc\n\nColoque la palabra o frase a buscar, puede utilizar \"NOT\", \"OR\" y/o \"AND\" si es necesario. Si no coloca nada, se ejecutará una query default.\n     \nExpresión de búsqueda: [{'work'}, {'!elonmusk', '!elon', 'free'}]\n\n\nIntercalar Bloques Elapsed time:  0.40625\n================================================================\nTweet con fecha 2022-11-01T21:46:39.000Z\n\nUsername: 1_2StepIsBanned\n\nTweet:\n        I hope your happy Elon Musty. Eddy worked so hard 😒 https://t.co/YMCP2W7958\n================================================================\nTweet con fecha 2022-11-01T21:51:05.000Z\n\nUsername: vivetpaul2\n\nTweet:\n        @PostelGert @elonmusk Elon Musk doesn't need a blue checkmarck because everybody knows who he is, you need one because nobody knows \n        who you are, maybe you had a friend working at tweeter to get it ? You probably dream of your blue checkmarck every night feeling \n        special, but it's over now AHAHA lol\n================================================================\nTweet con fecha 2022-11-01T22:21:52.000Z\n\nUsername: David4Luke\n\nTweet:\n        @Bitboy_Crypto Butterboy won't have any comments and his scams won't work. That's good\n================================================================\nTweet con fecha 2022-11-01T22:22:04.000Z\n================================================================\nSe buscó en 10366 tweets y se obtuvieron 30 resultados.\n================================================================\nDesea continuar? ['s' para continuar, 'n' para salir] :",
      "metadata": {},
      "id": "4b10790f-f4a8-47c7-9256-cfd3c8445c96"
    },
    {
      "cell_type": "markdown",
      "source": "Al seleccionar la opcion 'd' el sistema nos mostrara por pantalla un ranking con el numero de veces que aparece cada una de las palabras de la base de datos",
      "metadata": {},
      "id": "35f8f7c3"
    }
  ]
}